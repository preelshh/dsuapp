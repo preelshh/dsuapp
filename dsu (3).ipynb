{
 "cells": [
  {
   "cell_type": "code",
   "execution_count": 11,
   "id": "d7772b43-3df3-421f-9f45-254103dc5b3a",
   "metadata": {
    "tags": []
   },
   "outputs": [],
   "source": [
    "import pandas as pd"
   ]
  },
  {
   "cell_type": "code",
   "execution_count": 13,
   "id": "867e9b89-000d-4c4e-a043-615c2449b598",
   "metadata": {},
   "outputs": [],
   "source": [
    "df = pd.read_csv('Billionaires_Dataset.csv')"
   ]
  },
  {
   "cell_type": "code",
   "execution_count": 15,
   "id": "909dd800-2dc3-46a3-8e67-5664c46a3b57",
   "metadata": {
    "tags": []
   },
   "outputs": [
    {
     "data": {
      "text/html": [
       "<div>\n",
       "<style scoped>\n",
       "    .dataframe tbody tr th:only-of-type {\n",
       "        vertical-align: middle;\n",
       "    }\n",
       "\n",
       "    .dataframe tbody tr th {\n",
       "        vertical-align: top;\n",
       "    }\n",
       "\n",
       "    .dataframe thead th {\n",
       "        text-align: right;\n",
       "    }\n",
       "</style>\n",
       "<table border=\"1\" class=\"dataframe\">\n",
       "  <thead>\n",
       "    <tr style=\"text-align: right;\">\n",
       "      <th></th>\n",
       "      <th>name</th>\n",
       "      <th>net_worth</th>\n",
       "      <th>gender</th>\n",
       "      <th>age</th>\n",
       "      <th>birth_year</th>\n",
       "      <th>birth_month</th>\n",
       "      <th>birth_day</th>\n",
       "      <th>industry</th>\n",
       "      <th>self_made</th>\n",
       "      <th>country</th>\n",
       "      <th>gdp_country</th>\n",
       "      <th>cpi_change_country</th>\n",
       "      <th>gross_tertiary_education_enrollment</th>\n",
       "      <th>life_expectancy_country</th>\n",
       "      <th>total_tax_rate_country</th>\n",
       "      <th>population_country</th>\n",
       "    </tr>\n",
       "  </thead>\n",
       "  <tbody>\n",
       "    <tr>\n",
       "      <th>0</th>\n",
       "      <td>Jiang Weiping &amp; family</td>\n",
       "      <td>5500</td>\n",
       "      <td>M</td>\n",
       "      <td>68.0</td>\n",
       "      <td>1955.0</td>\n",
       "      <td>3.0</td>\n",
       "      <td>1.0</td>\n",
       "      <td>Manufacturing</td>\n",
       "      <td>True</td>\n",
       "      <td>China</td>\n",
       "      <td>$19,910,000,000,000</td>\n",
       "      <td>2.9</td>\n",
       "      <td>50.6</td>\n",
       "      <td>77.0</td>\n",
       "      <td>59.2</td>\n",
       "      <td>1.397715e+09</td>\n",
       "    </tr>\n",
       "    <tr>\n",
       "      <th>1</th>\n",
       "      <td>Antonia Ax:son Johnson &amp; family</td>\n",
       "      <td>9200</td>\n",
       "      <td>F</td>\n",
       "      <td>79.0</td>\n",
       "      <td>1943.0</td>\n",
       "      <td>9.0</td>\n",
       "      <td>6.0</td>\n",
       "      <td>Diversified</td>\n",
       "      <td>False</td>\n",
       "      <td>Sweden</td>\n",
       "      <td>$530,832,908,738</td>\n",
       "      <td>1.8</td>\n",
       "      <td>67.0</td>\n",
       "      <td>82.5</td>\n",
       "      <td>49.1</td>\n",
       "      <td>1.028545e+07</td>\n",
       "    </tr>\n",
       "    <tr>\n",
       "      <th>2</th>\n",
       "      <td>Binod Chaudhary</td>\n",
       "      <td>1800</td>\n",
       "      <td>M</td>\n",
       "      <td>67.0</td>\n",
       "      <td>1955.0</td>\n",
       "      <td>4.0</td>\n",
       "      <td>14.0</td>\n",
       "      <td>Diversified</td>\n",
       "      <td>False</td>\n",
       "      <td>Nepal</td>\n",
       "      <td>$30,641,380,604</td>\n",
       "      <td>5.6</td>\n",
       "      <td>12.4</td>\n",
       "      <td>70.5</td>\n",
       "      <td>41.8</td>\n",
       "      <td>2.860871e+07</td>\n",
       "    </tr>\n",
       "    <tr>\n",
       "      <th>3</th>\n",
       "      <td>Chad Richison</td>\n",
       "      <td>2200</td>\n",
       "      <td>M</td>\n",
       "      <td>52.0</td>\n",
       "      <td>1970.0</td>\n",
       "      <td>10.0</td>\n",
       "      <td>10.0</td>\n",
       "      <td>Technology</td>\n",
       "      <td>True</td>\n",
       "      <td>United States</td>\n",
       "      <td>$21,427,700,000,000</td>\n",
       "      <td>7.5</td>\n",
       "      <td>88.2</td>\n",
       "      <td>78.5</td>\n",
       "      <td>36.6</td>\n",
       "      <td>3.282395e+08</td>\n",
       "    </tr>\n",
       "  </tbody>\n",
       "</table>\n",
       "</div>"
      ],
      "text/plain": [
       "                              name  net_worth gender   age  birth_year  \\\n",
       "0           Jiang Weiping & family       5500      M  68.0      1955.0   \n",
       "1  Antonia Ax:son Johnson & family       9200      F  79.0      1943.0   \n",
       "2                  Binod Chaudhary       1800      M  67.0      1955.0   \n",
       "3                    Chad Richison       2200      M  52.0      1970.0   \n",
       "\n",
       "   birth_month  birth_day       industry  self_made        country  \\\n",
       "0          3.0        1.0  Manufacturing       True          China   \n",
       "1          9.0        6.0    Diversified      False         Sweden   \n",
       "2          4.0       14.0    Diversified      False          Nepal   \n",
       "3         10.0       10.0     Technology       True  United States   \n",
       "\n",
       "            gdp_country  cpi_change_country  \\\n",
       "0  $19,910,000,000,000                  2.9   \n",
       "1     $530,832,908,738                  1.8   \n",
       "2      $30,641,380,604                  5.6   \n",
       "3  $21,427,700,000,000                  7.5   \n",
       "\n",
       "   gross_tertiary_education_enrollment  life_expectancy_country  \\\n",
       "0                                 50.6                     77.0   \n",
       "1                                 67.0                     82.5   \n",
       "2                                 12.4                     70.5   \n",
       "3                                 88.2                     78.5   \n",
       "\n",
       "   total_tax_rate_country  population_country  \n",
       "0                    59.2        1.397715e+09  \n",
       "1                    49.1        1.028545e+07  \n",
       "2                    41.8        2.860871e+07  \n",
       "3                    36.6        3.282395e+08  "
      ]
     },
     "execution_count": 15,
     "metadata": {},
     "output_type": "execute_result"
    }
   ],
   "source": [
    "df.head(4)"
   ]
  },
  {
   "cell_type": "code",
   "execution_count": 17,
   "id": "18f8d84e-9a4b-471a-ad12-8e30e4a79e33",
   "metadata": {},
   "outputs": [],
   "source": [
    "#problem one"
   ]
  },
  {
   "cell_type": "code",
   "execution_count": 19,
   "id": "60057199-7407-4b22-90b1-3876f071b7b4",
   "metadata": {
    "tags": []
   },
   "outputs": [
    {
     "data": {
      "text/plain": [
       "0.003337505214851898"
      ]
     },
     "execution_count": 19,
     "metadata": {},
     "output_type": "execute_result"
    }
   ],
   "source": [
    "((df['age'] < 30).sum()) / (len(df)) "
   ]
  },
  {
   "cell_type": "code",
   "execution_count": null,
   "id": "3357994d-b5d7-4aa0-885a-58511e097b3e",
   "metadata": {},
   "outputs": [],
   "source": []
  },
  {
   "cell_type": "code",
   "execution_count": 22,
   "id": "5e3f1b78-b220-41ee-a793-b18e10b10754",
   "metadata": {},
   "outputs": [],
   "source": [
    "#problem two"
   ]
  },
  {
   "cell_type": "code",
   "execution_count": 24,
   "id": "eebf8a2e-84c7-43e0-a0cc-7765a95b0690",
   "metadata": {
    "tags": []
   },
   "outputs": [],
   "source": [
    "df1 = (df[df['self_made'] == False]) #problem two"
   ]
  },
  {
   "cell_type": "code",
   "execution_count": 26,
   "id": "a7fa9025-7949-4558-8968-fabc1eb5dc6a",
   "metadata": {
    "tags": []
   },
   "outputs": [
    {
     "data": {
      "text/plain": [
       "0    Fashion & Retail\n",
       "Name: industry, dtype: object"
      ]
     },
     "execution_count": 26,
     "metadata": {},
     "output_type": "execute_result"
    }
   ],
   "source": [
    "df1['industry'].mode() #problem two"
   ]
  },
  {
   "cell_type": "code",
   "execution_count": null,
   "id": "abbdc90b-ba41-4dad-93a8-ade5398187f5",
   "metadata": {},
   "outputs": [],
   "source": []
  },
  {
   "cell_type": "code",
   "execution_count": 29,
   "id": "2dc93874-9bec-48df-a84a-8822ba49b304",
   "metadata": {},
   "outputs": [],
   "source": [
    "#problem 3"
   ]
  },
  {
   "cell_type": "code",
   "execution_count": 31,
   "id": "55a41490-44c6-4eb6-91ac-ad5417b650d0",
   "metadata": {
    "tags": []
   },
   "outputs": [],
   "source": [
    "df2 = df[(df['age'] > 25) & (df['age'] < 45)]"
   ]
  },
  {
   "cell_type": "code",
   "execution_count": 33,
   "id": "3e4c8b7f-5abb-492c-bbbb-9a2f9b8db1e1",
   "metadata": {
    "tags": []
   },
   "outputs": [
    {
     "data": {
      "text/html": [
       "<div>\n",
       "<style scoped>\n",
       "    .dataframe tbody tr th:only-of-type {\n",
       "        vertical-align: middle;\n",
       "    }\n",
       "\n",
       "    .dataframe tbody tr th {\n",
       "        vertical-align: top;\n",
       "    }\n",
       "\n",
       "    .dataframe thead th {\n",
       "        text-align: right;\n",
       "    }\n",
       "</style>\n",
       "<table border=\"1\" class=\"dataframe\">\n",
       "  <thead>\n",
       "    <tr style=\"text-align: right;\">\n",
       "      <th></th>\n",
       "      <th>name</th>\n",
       "      <th>net_worth</th>\n",
       "      <th>gender</th>\n",
       "      <th>age</th>\n",
       "      <th>birth_year</th>\n",
       "      <th>birth_month</th>\n",
       "      <th>birth_day</th>\n",
       "      <th>industry</th>\n",
       "      <th>self_made</th>\n",
       "      <th>country</th>\n",
       "      <th>gdp_country</th>\n",
       "      <th>cpi_change_country</th>\n",
       "      <th>gross_tertiary_education_enrollment</th>\n",
       "      <th>life_expectancy_country</th>\n",
       "      <th>total_tax_rate_country</th>\n",
       "      <th>population_country</th>\n",
       "    </tr>\n",
       "  </thead>\n",
       "  <tbody>\n",
       "    <tr>\n",
       "      <th>976</th>\n",
       "      <td>Mark Zuckerberg</td>\n",
       "      <td>64400</td>\n",
       "      <td>M</td>\n",
       "      <td>38.0</td>\n",
       "      <td>1984.0</td>\n",
       "      <td>5.0</td>\n",
       "      <td>14.0</td>\n",
       "      <td>Technology</td>\n",
       "      <td>True</td>\n",
       "      <td>United States</td>\n",
       "      <td>$21,427,700,000,000</td>\n",
       "      <td>7.5</td>\n",
       "      <td>88.2</td>\n",
       "      <td>78.5</td>\n",
       "      <td>36.6</td>\n",
       "      <td>328239523.0</td>\n",
       "    </tr>\n",
       "  </tbody>\n",
       "</table>\n",
       "</div>"
      ],
      "text/plain": [
       "                name  net_worth gender   age  birth_year  birth_month  \\\n",
       "976  Mark Zuckerberg      64400      M  38.0      1984.0          5.0   \n",
       "\n",
       "     birth_day    industry  self_made        country           gdp_country  \\\n",
       "976       14.0  Technology       True  United States  $21,427,700,000,000    \n",
       "\n",
       "     cpi_change_country  gross_tertiary_education_enrollment  \\\n",
       "976                 7.5                                 88.2   \n",
       "\n",
       "     life_expectancy_country  total_tax_rate_country  population_country  \n",
       "976                     78.5                    36.6         328239523.0  "
      ]
     },
     "execution_count": 33,
     "metadata": {},
     "output_type": "execute_result"
    }
   ],
   "source": [
    "df2[df2['net_worth'] == max(df2['net_worth'])]"
   ]
  },
  {
   "cell_type": "code",
   "execution_count": null,
   "id": "9c1b57bd-ef5f-4d3c-8714-b09be62e4a62",
   "metadata": {
    "tags": []
   },
   "outputs": [],
   "source": []
  },
  {
   "cell_type": "code",
   "execution_count": 36,
   "id": "c34278e7-b3c3-4cfc-845e-1254e1befb5b",
   "metadata": {
    "tags": []
   },
   "outputs": [],
   "source": [
    "#problem 4"
   ]
  },
  {
   "cell_type": "code",
   "execution_count": 38,
   "id": "26e04832-ed74-45bd-a421-cb686ea1c703",
   "metadata": {
    "tags": []
   },
   "outputs": [
    {
     "data": {
      "text/plain": [
       "country\n",
       "France     14629.411765\n",
       "Belgium    13733.333333\n",
       "Mexico     12746.153846\n",
       "Name: net_worth, dtype: float64"
      ]
     },
     "execution_count": 38,
     "metadata": {},
     "output_type": "execute_result"
    }
   ],
   "source": [
    "df.groupby('country')['net_worth'].mean().sort_values(ascending = False).head(3)"
   ]
  },
  {
   "cell_type": "code",
   "execution_count": null,
   "id": "96b4f3de-5a7e-42eb-ba8f-fe0c89feb49a",
   "metadata": {
    "tags": []
   },
   "outputs": [],
   "source": []
  },
  {
   "cell_type": "code",
   "execution_count": null,
   "id": "28dd84d0-1e2e-43ef-87e6-82173f9c2b1b",
   "metadata": {
    "tags": []
   },
   "outputs": [],
   "source": []
  },
  {
   "cell_type": "markdown",
   "id": "9e07783a-fa51-4f3f-bf81-b9a27f1e4bfc",
   "metadata": {
    "tags": []
   },
   "source": [
    "#challenge problem 1"
   ]
  },
  {
   "cell_type": "code",
   "execution_count": 43,
   "id": "91221e05-edf3-4037-8954-70645d786b11",
   "metadata": {
    "tags": []
   },
   "outputs": [],
   "source": [
    "import seaborn as sns\n",
    "import matplotlib.pyplot as plt"
   ]
  },
  {
   "cell_type": "code",
   "execution_count": 44,
   "id": "af955158-89fe-4bd0-a92c-1e377b76b48f",
   "metadata": {
    "tags": []
   },
   "outputs": [],
   "source": [
    "avg_networth_by_month = df.groupby('birth_month')['net_worth'].mean().sort_values(ascending = False)"
   ]
  },
  {
   "cell_type": "code",
   "execution_count": null,
   "id": "48033676-bd5f-497a-a53b-94d83c5da1c0",
   "metadata": {
    "tags": []
   },
   "outputs": [],
   "source": []
  },
  {
   "cell_type": "code",
   "execution_count": 46,
   "id": "e3e11732-9358-4c83-8615-165f1a4e0e3f",
   "metadata": {
    "tags": []
   },
   "outputs": [
    {
     "data": {
      "text/plain": [
       "<Axes: xlabel='birth_month'>"
      ]
     },
     "execution_count": 46,
     "metadata": {},
     "output_type": "execute_result"
    },
    {
     "data": {
      "image/png": "[encoded data removed]",
      "text/plain": [
       "<Figure size 640x480 with 1 Axes>"
      ]
     },
     "metadata": {},
     "output_type": "display_data"
    }
   ],
   "source": [
    "avg_networth_by_month = df.groupby('birth_month')['net_worth'].mean()\n",
    "avg_networth_by_month.plot(kind='bar', color='skyblue')\n"
   ]
  },
  {
   "cell_type": "code",
   "execution_count": null,
   "id": "081bd9cc-0b8c-4947-9653-ec3283a2a722",
   "metadata": {
    "tags": []
   },
   "outputs": [],
   "source": []
  },
  {
   "cell_type": "code",
   "execution_count": null,
   "id": "1daa0dad-6faf-49a5-9a33-04d663f0c2c2",
   "metadata": {
    "tags": []
   },
   "outputs": [],
   "source": []
  },
  {
   "cell_type": "code",
   "execution_count": 49,
   "id": "39fdfde1-377c-4bbd-8276-643cadddb608",
   "metadata": {
    "tags": []
   },
   "outputs": [],
   "source": [
    "q1 = df['net_worth'].quantile(0.25)\n",
    "q3 = df['net_worth'].quantile(0.75)\n",
    "\n",
    "iqr = q3- q1\n",
    "\n",
    "maximum = q3 + 1.5*iqr\n",
    "minimum = q1 - 1.5*iqr"
   ]
  },
  {
   "cell_type": "code",
   "execution_count": null,
   "id": "2fddfb9f-f7f0-4dd9-8a68-6815f9df6279",
   "metadata": {
    "tags": []
   },
   "outputs": [],
   "source": []
  },
  {
   "cell_type": "code",
   "execution_count": 51,
   "id": "dbaa94b0-e772-4064-907d-02310d82bc9d",
   "metadata": {
    "tags": []
   },
   "outputs": [],
   "source": [
    "outliers = (([net_worth for net_worth in df['net_worth'] if net_worth> maximum or net_worth<minimum]))"
   ]
  },
  {
   "cell_type": "code",
   "execution_count": 52,
   "id": "3371e160-c85d-4d05-a296-fdff24cb1214",
   "metadata": {
    "tags": []
   },
   "outputs": [
    {
     "data": {
      "text/plain": [
       "226"
      ]
     },
     "execution_count": 52,
     "metadata": {},
     "output_type": "execute_result"
    }
   ],
   "source": [
    "len(outliers)"
   ]
  },
  {
   "cell_type": "code",
   "execution_count": 53,
   "id": "31683307-6f10-49e7-b579-5cb139067e37",
   "metadata": {
    "tags": []
   },
   "outputs": [],
   "source": [
    "condition = (df['net_worth'] >= minimum) & (df['net_worth'] <= maximum)"
   ]
  },
  {
   "cell_type": "code",
   "execution_count": 54,
   "id": "b742638b-ec8a-4960-8f0f-950d9735ec51",
   "metadata": {
    "tags": []
   },
   "outputs": [],
   "source": [
    "new_df = df[condition]"
   ]
  },
  {
   "cell_type": "code",
   "execution_count": 55,
   "id": "984b8169-4f27-4938-a987-534f5cff0e4a",
   "metadata": {
    "tags": []
   },
   "outputs": [
    {
     "data": {
      "text/html": [
       "<div>\n",
       "<style scoped>\n",
       "    .dataframe tbody tr th:only-of-type {\n",
       "        vertical-align: middle;\n",
       "    }\n",
       "\n",
       "    .dataframe tbody tr th {\n",
       "        vertical-align: top;\n",
       "    }\n",
       "\n",
       "    .dataframe thead th {\n",
       "        text-align: right;\n",
       "    }\n",
       "</style>\n",
       "<table border=\"1\" class=\"dataframe\">\n",
       "  <thead>\n",
       "    <tr style=\"text-align: right;\">\n",
       "      <th></th>\n",
       "      <th>name</th>\n",
       "      <th>net_worth</th>\n",
       "      <th>gender</th>\n",
       "      <th>age</th>\n",
       "      <th>birth_year</th>\n",
       "      <th>birth_month</th>\n",
       "      <th>birth_day</th>\n",
       "      <th>industry</th>\n",
       "      <th>self_made</th>\n",
       "      <th>country</th>\n",
       "      <th>gdp_country</th>\n",
       "      <th>cpi_change_country</th>\n",
       "      <th>gross_tertiary_education_enrollment</th>\n",
       "      <th>life_expectancy_country</th>\n",
       "      <th>total_tax_rate_country</th>\n",
       "      <th>population_country</th>\n",
       "    </tr>\n",
       "  </thead>\n",
       "  <tbody>\n",
       "    <tr>\n",
       "      <th>0</th>\n",
       "      <td>Jiang Weiping &amp; family</td>\n",
       "      <td>5500</td>\n",
       "      <td>M</td>\n",
       "      <td>68.0</td>\n",
       "      <td>1955.0</td>\n",
       "      <td>3.0</td>\n",
       "      <td>1.0</td>\n",
       "      <td>Manufacturing</td>\n",
       "      <td>True</td>\n",
       "      <td>China</td>\n",
       "      <td>$19,910,000,000,000</td>\n",
       "      <td>2.9</td>\n",
       "      <td>50.6</td>\n",
       "      <td>77.0</td>\n",
       "      <td>59.2</td>\n",
       "      <td>1.397715e+09</td>\n",
       "    </tr>\n",
       "    <tr>\n",
       "      <th>2</th>\n",
       "      <td>Binod Chaudhary</td>\n",
       "      <td>1800</td>\n",
       "      <td>M</td>\n",
       "      <td>67.0</td>\n",
       "      <td>1955.0</td>\n",
       "      <td>4.0</td>\n",
       "      <td>14.0</td>\n",
       "      <td>Diversified</td>\n",
       "      <td>False</td>\n",
       "      <td>Nepal</td>\n",
       "      <td>$30,641,380,604</td>\n",
       "      <td>5.6</td>\n",
       "      <td>12.4</td>\n",
       "      <td>70.5</td>\n",
       "      <td>41.8</td>\n",
       "      <td>2.860871e+07</td>\n",
       "    </tr>\n",
       "    <tr>\n",
       "      <th>3</th>\n",
       "      <td>Chad Richison</td>\n",
       "      <td>2200</td>\n",
       "      <td>M</td>\n",
       "      <td>52.0</td>\n",
       "      <td>1970.0</td>\n",
       "      <td>10.0</td>\n",
       "      <td>10.0</td>\n",
       "      <td>Technology</td>\n",
       "      <td>True</td>\n",
       "      <td>United States</td>\n",
       "      <td>$21,427,700,000,000</td>\n",
       "      <td>7.5</td>\n",
       "      <td>88.2</td>\n",
       "      <td>78.5</td>\n",
       "      <td>36.6</td>\n",
       "      <td>3.282395e+08</td>\n",
       "    </tr>\n",
       "    <tr>\n",
       "      <th>4</th>\n",
       "      <td>Tom Ford</td>\n",
       "      <td>2200</td>\n",
       "      <td>M</td>\n",
       "      <td>61.0</td>\n",
       "      <td>1961.0</td>\n",
       "      <td>8.0</td>\n",
       "      <td>27.0</td>\n",
       "      <td>Fashion &amp; Retail</td>\n",
       "      <td>True</td>\n",
       "      <td>United States</td>\n",
       "      <td>$21,427,700,000,000</td>\n",
       "      <td>7.5</td>\n",
       "      <td>88.2</td>\n",
       "      <td>78.5</td>\n",
       "      <td>36.6</td>\n",
       "      <td>3.282395e+08</td>\n",
       "    </tr>\n",
       "    <tr>\n",
       "      <th>5</th>\n",
       "      <td>Don Vultaggio &amp; family</td>\n",
       "      <td>7000</td>\n",
       "      <td>M</td>\n",
       "      <td>71.0</td>\n",
       "      <td>1952.0</td>\n",
       "      <td>2.0</td>\n",
       "      <td>26.0</td>\n",
       "      <td>Food &amp; Beverage</td>\n",
       "      <td>True</td>\n",
       "      <td>United States</td>\n",
       "      <td>$21,427,700,000,000</td>\n",
       "      <td>7.5</td>\n",
       "      <td>88.2</td>\n",
       "      <td>78.5</td>\n",
       "      <td>36.6</td>\n",
       "      <td>3.282395e+08</td>\n",
       "    </tr>\n",
       "    <tr>\n",
       "      <th>...</th>\n",
       "      <td>...</td>\n",
       "      <td>...</td>\n",
       "      <td>...</td>\n",
       "      <td>...</td>\n",
       "      <td>...</td>\n",
       "      <td>...</td>\n",
       "      <td>...</td>\n",
       "      <td>...</td>\n",
       "      <td>...</td>\n",
       "      <td>...</td>\n",
       "      <td>...</td>\n",
       "      <td>...</td>\n",
       "      <td>...</td>\n",
       "      <td>...</td>\n",
       "      <td>...</td>\n",
       "      <td>...</td>\n",
       "    </tr>\n",
       "    <tr>\n",
       "      <th>2392</th>\n",
       "      <td>David Zalik</td>\n",
       "      <td>1700</td>\n",
       "      <td>M</td>\n",
       "      <td>49.0</td>\n",
       "      <td>1974.0</td>\n",
       "      <td>2.0</td>\n",
       "      <td>2.0</td>\n",
       "      <td>Technology</td>\n",
       "      <td>True</td>\n",
       "      <td>United States</td>\n",
       "      <td>$21,427,700,000,000</td>\n",
       "      <td>7.5</td>\n",
       "      <td>88.2</td>\n",
       "      <td>78.5</td>\n",
       "      <td>36.6</td>\n",
       "      <td>3.282395e+08</td>\n",
       "    </tr>\n",
       "    <tr>\n",
       "      <th>2393</th>\n",
       "      <td>Henry Laufer</td>\n",
       "      <td>2600</td>\n",
       "      <td>M</td>\n",
       "      <td>77.0</td>\n",
       "      <td>1945.0</td>\n",
       "      <td>8.0</td>\n",
       "      <td>13.0</td>\n",
       "      <td>Finance &amp; Investments</td>\n",
       "      <td>True</td>\n",
       "      <td>United States</td>\n",
       "      <td>$21,427,700,000,000</td>\n",
       "      <td>7.5</td>\n",
       "      <td>88.2</td>\n",
       "      <td>78.5</td>\n",
       "      <td>36.6</td>\n",
       "      <td>3.282395e+08</td>\n",
       "    </tr>\n",
       "    <tr>\n",
       "      <th>2394</th>\n",
       "      <td>Andrew Cherng</td>\n",
       "      <td>2500</td>\n",
       "      <td>M</td>\n",
       "      <td>75.0</td>\n",
       "      <td>1948.0</td>\n",
       "      <td>4.0</td>\n",
       "      <td>2.0</td>\n",
       "      <td>Food &amp; Beverage</td>\n",
       "      <td>True</td>\n",
       "      <td>United States</td>\n",
       "      <td>$21,427,700,000,000</td>\n",
       "      <td>7.5</td>\n",
       "      <td>88.2</td>\n",
       "      <td>78.5</td>\n",
       "      <td>36.6</td>\n",
       "      <td>3.282395e+08</td>\n",
       "    </tr>\n",
       "    <tr>\n",
       "      <th>2395</th>\n",
       "      <td>Alice Schwartz</td>\n",
       "      <td>2200</td>\n",
       "      <td>F</td>\n",
       "      <td>96.0</td>\n",
       "      <td>1926.0</td>\n",
       "      <td>7.0</td>\n",
       "      <td>2.0</td>\n",
       "      <td>Healthcare</td>\n",
       "      <td>True</td>\n",
       "      <td>United States</td>\n",
       "      <td>$21,427,700,000,000</td>\n",
       "      <td>7.5</td>\n",
       "      <td>88.2</td>\n",
       "      <td>78.5</td>\n",
       "      <td>36.6</td>\n",
       "      <td>3.282395e+08</td>\n",
       "    </tr>\n",
       "    <tr>\n",
       "      <th>2396</th>\n",
       "      <td>Hu Baifan</td>\n",
       "      <td>3200</td>\n",
       "      <td>M</td>\n",
       "      <td>60.0</td>\n",
       "      <td>1962.0</td>\n",
       "      <td>10.0</td>\n",
       "      <td>1.0</td>\n",
       "      <td>Healthcare</td>\n",
       "      <td>True</td>\n",
       "      <td>China</td>\n",
       "      <td>$19,910,000,000,000</td>\n",
       "      <td>2.9</td>\n",
       "      <td>50.6</td>\n",
       "      <td>77.0</td>\n",
       "      <td>59.2</td>\n",
       "      <td>1.397715e+09</td>\n",
       "    </tr>\n",
       "  </tbody>\n",
       "</table>\n",
       "<p>2171 rows × 16 columns</p>\n",
       "</div>"
      ],
      "text/plain": [
       "                        name  net_worth gender   age  birth_year  birth_month  \\\n",
       "0     Jiang Weiping & family       5500      M  68.0      1955.0          3.0   \n",
       "2            Binod Chaudhary       1800      M  67.0      1955.0          4.0   \n",
       "3              Chad Richison       2200      M  52.0      1970.0         10.0   \n",
       "4                   Tom Ford       2200      M  61.0      1961.0          8.0   \n",
       "5     Don Vultaggio & family       7000      M  71.0      1952.0          2.0   \n",
       "...                      ...        ...    ...   ...         ...          ...   \n",
       "2392             David Zalik       1700      M  49.0      1974.0          2.0   \n",
       "2393            Henry Laufer       2600      M  77.0      1945.0          8.0   \n",
       "2394           Andrew Cherng       2500      M  75.0      1948.0          4.0   \n",
       "2395          Alice Schwartz       2200      F  96.0      1926.0          7.0   \n",
       "2396               Hu Baifan       3200      M  60.0      1962.0         10.0   \n",
       "\n",
       "      birth_day               industry  self_made        country  \\\n",
       "0           1.0          Manufacturing       True          China   \n",
       "2          14.0            Diversified      False          Nepal   \n",
       "3          10.0             Technology       True  United States   \n",
       "4          27.0       Fashion & Retail       True  United States   \n",
       "5          26.0        Food & Beverage       True  United States   \n",
       "...         ...                    ...        ...            ...   \n",
       "2392        2.0             Technology       True  United States   \n",
       "2393       13.0  Finance & Investments       True  United States   \n",
       "2394        2.0        Food & Beverage       True  United States   \n",
       "2395        2.0             Healthcare       True  United States   \n",
       "2396        1.0             Healthcare       True          China   \n",
       "\n",
       "               gdp_country  cpi_change_country  \\\n",
       "0     $19,910,000,000,000                  2.9   \n",
       "2         $30,641,380,604                  5.6   \n",
       "3     $21,427,700,000,000                  7.5   \n",
       "4     $21,427,700,000,000                  7.5   \n",
       "5     $21,427,700,000,000                  7.5   \n",
       "...                    ...                 ...   \n",
       "2392  $21,427,700,000,000                  7.5   \n",
       "2393  $21,427,700,000,000                  7.5   \n",
       "2394  $21,427,700,000,000                  7.5   \n",
       "2395  $21,427,700,000,000                  7.5   \n",
       "2396  $19,910,000,000,000                  2.9   \n",
       "\n",
       "      gross_tertiary_education_enrollment  life_expectancy_country  \\\n",
       "0                                    50.6                     77.0   \n",
       "2                                    12.4                     70.5   \n",
       "3                                    88.2                     78.5   \n",
       "4                                    88.2                     78.5   \n",
       "5                                    88.2                     78.5   \n",
       "...                                   ...                      ...   \n",
       "2392                                 88.2                     78.5   \n",
       "2393                                 88.2                     78.5   \n",
       "2394                                 88.2                     78.5   \n",
       "2395                                 88.2                     78.5   \n",
       "2396                                 50.6                     77.0   \n",
       "\n",
       "      total_tax_rate_country  population_country  \n",
       "0                       59.2        1.397715e+09  \n",
       "2                       41.8        2.860871e+07  \n",
       "3                       36.6        3.282395e+08  \n",
       "4                       36.6        3.282395e+08  \n",
       "5                       36.6        3.282395e+08  \n",
       "...                      ...                 ...  \n",
       "2392                    36.6        3.282395e+08  \n",
       "2393                    36.6        3.282395e+08  \n",
       "2394                    36.6        3.282395e+08  \n",
       "2395                    36.6        3.282395e+08  \n",
       "2396                    59.2        1.397715e+09  \n",
       "\n",
       "[2171 rows x 16 columns]"
      ]
     },
     "execution_count": 55,
     "metadata": {},
     "output_type": "execute_result"
    }
   ],
   "source": [
    "new_df"
   ]
  },
  {
   "cell_type": "code",
   "execution_count": 56,
   "id": "d17aab88-bd45-4034-a1bc-da195d9ad7f3",
   "metadata": {
    "tags": []
   },
   "outputs": [
    {
     "data": {
      "text/plain": [
       "<Axes: xlabel='birth_month'>"
      ]
     },
     "execution_count": 56,
     "metadata": {},
     "output_type": "execute_result"
    },
    {
     "data": {
      "image/png": "[encoded data removed]",
      "text/plain": [
       "<Figure size 640x480 with 1 Axes>"
      ]
     },
     "metadata": {},
     "output_type": "display_data"
    }
   ],
   "source": [
    "new_avg = new_df.groupby('birth_month')['net_worth'].mean()\n",
    "new_avg.plot(kind='bar', color='skyblue')"
   ]
  },
  {
   "cell_type": "code",
   "execution_count": 57,
   "id": "45a894a3-6cee-4fe1-bf40-efd81e78b222",
   "metadata": {
    "tags": []
   },
   "outputs": [
    {
     "data": {
      "text/plain": [
       "2200.0"
      ]
     },
     "execution_count": 57,
     "metadata": {},
     "output_type": "execute_result"
    }
   ],
   "source": [
    "new_df['net_worth'].median() "
   ]
  },
  {
   "cell_type": "code",
   "execution_count": 58,
   "id": "35b99cfe-321e-411d-bbaa-888c9340d652",
   "metadata": {
    "tags": []
   },
   "outputs": [
    {
     "data": {
      "text/plain": [
       "10231.184614287542"
      ]
     },
     "execution_count": 58,
     "metadata": {},
     "output_type": "execute_result"
    }
   ],
   "source": [
    "df['net_worth'].std()"
   ]
  },
  {
   "cell_type": "code",
   "execution_count": 59,
   "id": "00c6d795-058a-4175-a7e4-bb7c8db7ca83",
   "metadata": {
    "tags": []
   },
   "outputs": [
    {
     "data": {
      "text/plain": [
       "1764.767220801114"
      ]
     },
     "execution_count": 59,
     "metadata": {},
     "output_type": "execute_result"
    }
   ],
   "source": [
    "new_df['net_worth'].std()"
   ]
  },
  {
   "cell_type": "code",
   "execution_count": 60,
   "id": "33a74de8-781e-47eb-8031-17a1bb03ebf4",
   "metadata": {
    "tags": []
   },
   "outputs": [
    {
     "data": {
      "text/plain": [
       "2400.0"
      ]
     },
     "execution_count": 60,
     "metadata": {},
     "output_type": "execute_result"
    }
   ],
   "source": [
    "df['net_worth'].median()"
   ]
  },
  {
   "cell_type": "code",
   "execution_count": null,
   "id": "9bf66184-8a31-494a-8dd6-73b3e4c32e60",
   "metadata": {},
   "outputs": [],
   "source": []
  },
  {
   "cell_type": "code",
   "execution_count": null,
   "id": "e554eb4c-dc8b-408c-ab1d-d704610f4970",
   "metadata": {},
   "outputs": [],
   "source": []
  },
  {
   "cell_type": "code",
   "execution_count": null,
   "id": "a64162a8-a25a-47c7-a204-f895cfbec83d",
   "metadata": {},
   "outputs": [],
   "source": []
  },
  {
   "cell_type": "code",
   "execution_count": null,
   "id": "eb743d0e-d15d-437f-94d3-a77fd581688d",
   "metadata": {},
   "outputs": [],
   "source": []
  },
  {
   "cell_type": "code",
   "execution_count": null,
   "id": "ba0b2eaf-c623-4689-926b-4dedb562e6cd",
   "metadata": {
    "tags": []
   },
   "outputs": [],
   "source": []
  },
  {
   "cell_type": "code",
   "execution_count": null,
   "id": "80cc8c64-44d2-4ad0-9273-47a3858bee59",
   "metadata": {
    "tags": []
   },
   "outputs": [],
   "source": []
  },
  {
   "cell_type": "code",
   "execution_count": null,
   "id": "f13e0ff7-bb1d-4ef7-9ec4-7880da9babd9",
   "metadata": {
    "tags": []
   },
   "outputs": [],
   "source": []
  },
  {
   "cell_type": "code",
   "execution_count": 82,
   "id": "a1fec8a3-62c4-40e9-a525-b96d00e4546d",
   "metadata": {
    "tags": []
   },
   "outputs": [],
   "source": [
    "\n",
    "#challenge problem 2"
   ]
  },
  {
   "cell_type": "code",
   "execution_count": 84,
   "id": "f637494e-d934-455d-a9a0-9fe4043bb18d",
   "metadata": {
    "tags": []
   },
   "outputs": [
    {
     "name": "stdout",
     "output_type": "stream",
     "text": [
      "{name}:\n",
      "name\n",
      "Ann Walton Kroenke    8500.0\n",
      "Name: net_worth, dtype: float64\n",
      "\n",
      "{name}:\n",
      "net_worth\n",
      "8500    8500.0\n",
      "Name: net_worth, dtype: float64\n",
      "\n",
      "{name}:\n",
      "gender\n",
      "F    3002.362205\n",
      "Name: net_worth, dtype: float64\n",
      "\n",
      "{name}:\n",
      "age\n",
      "93.0    4857.142857\n",
      "Name: net_worth, dtype: float64\n",
      "\n",
      "{name}:\n",
      "birth_year\n",
      "1929.0    4957.142857\n",
      "Name: net_worth, dtype: float64\n",
      "\n",
      "{name}:\n",
      "birth_month\n",
      "9.0    3138.150289\n",
      "Name: net_worth, dtype: float64\n",
      "\n",
      "{name}:\n",
      "birth_day\n",
      "27.0    3240.0\n",
      "Name: net_worth, dtype: float64\n",
      "\n",
      "{name}:\n",
      "industry\n",
      "Gambling & Casinos    3180.952381\n",
      "Name: net_worth, dtype: float64\n",
      "\n",
      "{name}:\n",
      "self_made\n",
      "False    2991.236307\n",
      "Name: net_worth, dtype: float64\n",
      "\n",
      "{name}:\n",
      "country\n",
      "Nigeria    7150.0\n",
      "Name: net_worth, dtype: float64\n",
      "\n",
      "{name}:\n",
      "gdp_country\n",
      "$448,120,428,859     7150.0\n",
      "Name: net_worth, dtype: float64\n",
      "\n",
      "{name}:\n",
      "cpi_change_country\n",
      "11.4    7150.0\n",
      "Name: net_worth, dtype: float64\n",
      "\n",
      "{name}:\n",
      "gross_tertiary_education_enrollment\n",
      "10.2    7150.0\n",
      "Name: net_worth, dtype: float64\n",
      "\n",
      "{name}:\n",
      "life_expectancy_country\n",
      "54.3    7150.0\n",
      "Name: net_worth, dtype: float64\n",
      "\n",
      "{name}:\n",
      "total_tax_rate_country\n",
      "34.8    7150.0\n",
      "Name: net_worth, dtype: float64\n",
      "\n",
      "{name}:\n",
      "population_country\n",
      "200963599.0    7150.0\n",
      "Name: net_worth, dtype: float64\n",
      "\n"
     ]
    }
   ],
   "source": [
    "for name in new_df.columns:\n",
    "    output = new_df.groupby(name)['net_worth'].mean().sort_values(ascending = False).head(1)\n",
    "    print(\"{name}:\")\n",
    "    print(output)\n",
    "    print(      ) "
   ]
  },
  {
   "cell_type": "code",
   "execution_count": null,
   "id": "4bb3b099-f3e8-4164-aa5e-b951ef5d69a7",
   "metadata": {},
   "outputs": [],
   "source": []
  },
  {
   "cell_type": "code",
   "execution_count": null,
   "id": "27dd7337-648a-4e10-8b97-47cf3c8e107b",
   "metadata": {},
   "outputs": [],
   "source": []
  },
  {
   "cell_type": "code",
   "execution_count": null,
   "id": "c6deb989-25ba-494e-90b1-6ff49c61fa09",
   "metadata": {},
   "outputs": [],
   "source": []
  },
  {
   "cell_type": "code",
   "execution_count": null,
   "id": "d3e31000-a451-455c-a55b-b0c8d5f6e748",
   "metadata": {},
   "outputs": [],
   "source": []
  },
  {
   "cell_type": "code",
   "execution_count": null,
   "id": "0c9dbb1c-4951-43ce-9a9d-ce18c11c14a9",
   "metadata": {},
   "outputs": [],
   "source": []
  }
 ],
 "metadata": {
  "kernelspec": {
   "display_name": "Python 3 (ipykernel)",
   "language": "python",
   "name": "python3"
  },
  "language_info": {
   "codemirror_mode": {
    "name": "ipython",
    "version": 3
   },
   "file_extension": ".py",
   "mimetype": "text/x-python",
   "name": "python",
   "nbconvert_exporter": "python",
   "pygments_lexer": "ipython3",
   "version": "3.11.5"
  }
 },
 "nbformat": 4,
 "nbformat_minor": 5
}
